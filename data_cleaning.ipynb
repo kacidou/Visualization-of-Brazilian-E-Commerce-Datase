{
 "cells": [
  {
   "cell_type": "code",
   "execution_count": 20,
   "metadata": {
    "ExecuteTime": {
     "end_time": "2021-03-28T20:32:44.515062Z",
     "start_time": "2021-03-28T20:32:43.058277Z"
    }
   },
   "outputs": [],
   "source": [
    "import pandas as pd\n",
    "\n",
    "df_products = pd.read_csv(\"data/products.csv\")\n",
    "df_customers = pd.read_csv(\"data/customers.csv\")\n",
    "df_order_items = pd.read_csv(\"data/order_items.csv\")\n",
    "df_order_payments = pd.read_csv(\"data/order_payments.csv\")\n",
    "df_order_reviews = pd.read_csv(\"data/order_reviews.csv\")\n",
    "df_orders = pd.read_csv(\"data/orders.csv\")\n",
    "df_sellers = pd.read_csv(\"data/sellers.csv\")\n",
    "\n",
    "dfs = []\n",
    "dfs.append(df_products)\n",
    "dfs.append(df_customers)\n",
    "dfs.append(df_order_items)\n",
    "dfs.append(df_order_payments)\n",
    "dfs.append(df_order_reviews)\n",
    "dfs.append(df_orders)\n",
    "dfs.append(df_sellers)"
   ]
  },
  {
   "cell_type": "code",
   "execution_count": 22,
   "metadata": {
    "ExecuteTime": {
     "end_time": "2021-03-28T20:32:51.602465Z",
     "start_time": "2021-03-28T20:32:51.394923Z"
    },
    "scrolled": true
   },
   "outputs": [],
   "source": [
    "for file in dfs:\n",
    "    x.dropna(inplace=True)"
   ]
  },
  {
   "cell_type": "code",
   "execution_count": 24,
   "metadata": {
    "ExecuteTime": {
     "end_time": "2021-03-28T20:33:00.660299Z",
     "start_time": "2021-03-28T20:32:57.330937Z"
    }
   },
   "outputs": [],
   "source": [
    "df_products.to_csv(\"data/products.csv\",index = False)\n",
    "df_customers.to_csv(\"data/customers.csv\",index = False)\n",
    "df_order_items.to_csv(\"data/order_items.csv\",index = False)\n",
    "df_order_payments.to_csv(\"data/order_payments.csv\",index = False)\n",
    "df_order_reviews.to_csv(\"data/order_reviews.csv\",index = False)\n",
    "df_orders.to_csv(\"data/orders.csv\",index = False)\n",
    "df_sellers.to_csv(\"data/sellers.csv\",index = False)"
   ]
  }
 ],
 "metadata": {
  "kernelspec": {
   "display_name": "Python 3",
   "language": "python",
   "name": "python3"
  },
  "language_info": {
   "codemirror_mode": {
    "name": "ipython",
    "version": 3
   },
   "file_extension": ".py",
   "mimetype": "text/x-python",
   "name": "python",
   "nbconvert_exporter": "python",
   "pygments_lexer": "ipython3",
   "version": "3.8.5"
  },
  "toc": {
   "base_numbering": 1,
   "nav_menu": {},
   "number_sections": true,
   "sideBar": true,
   "skip_h1_title": false,
   "title_cell": "Table of Contents",
   "title_sidebar": "Contents",
   "toc_cell": false,
   "toc_position": {},
   "toc_section_display": true,
   "toc_window_display": false
  },
  "varInspector": {
   "cols": {
    "lenName": 16,
    "lenType": 16,
    "lenVar": 40
   },
   "kernels_config": {
    "python": {
     "delete_cmd_postfix": "",
     "delete_cmd_prefix": "del ",
     "library": "var_list.py",
     "varRefreshCmd": "print(var_dic_list())"
    },
    "r": {
     "delete_cmd_postfix": ") ",
     "delete_cmd_prefix": "rm(",
     "library": "var_list.r",
     "varRefreshCmd": "cat(var_dic_list()) "
    }
   },
   "types_to_exclude": [
    "module",
    "function",
    "builtin_function_or_method",
    "instance",
    "_Feature"
   ],
   "window_display": false
  }
 },
 "nbformat": 4,
 "nbformat_minor": 4
}
